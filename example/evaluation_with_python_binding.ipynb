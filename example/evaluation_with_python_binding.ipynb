{
 "cells": [
  {
   "cell_type": "raw",
   "metadata": {},
   "source": [
    "# Install FastText \n",
    "!pip install fasttext "
   ]
  },
  {
   "cell_type": "code",
   "execution_count": 1,
   "metadata": {
    "collapsed": true
   },
   "outputs": [],
   "source": [
    "import pandas as pd\n",
    "import numpy as np\n",
    "import random\n",
    "import fasttext\n",
    "from sklearn.metrics import confusion_matrix, classification_report"
   ]
  },
  {
   "cell_type": "code",
   "execution_count": 2,
   "metadata": {},
   "outputs": [
    {
     "name": "stderr",
     "output_type": "stream",
     "text": [
      "\n"
     ]
    }
   ],
   "source": [
    "model = fasttext.load_model('models/dbpedia_1.bin')"
   ]
  },
  {
   "cell_type": "code",
   "execution_count": 13,
   "metadata": {},
   "outputs": [
    {
     "data": {
      "text/plain": [
       "['Company',\n",
       " 'EducationalInstitution',\n",
       " 'Artist',\n",
       " 'Athlete',\n",
       " 'OfficeHolder',\n",
       " 'MeanOfTransportation',\n",
       " 'Building',\n",
       " 'NaturalPlace',\n",
       " 'Village',\n",
       " 'Animal',\n",
       " 'Plant',\n",
       " 'Album',\n",
       " 'Film',\n",
       " 'WrittenWork']"
      ]
     },
     "execution_count": 13,
     "metadata": {},
     "output_type": "execute_result"
    }
   ],
   "source": [
    "fp = open('dbpedia_csv/classes.txt','rt')\n",
    "class_names =  fp.readlines()\n",
    "fp.close()\n",
    "class_names = [x.strip() for x in class_names]\n",
    "class_names"
   ]
  },
  {
   "cell_type": "code",
   "execution_count": 14,
   "metadata": {
    "collapsed": true
   },
   "outputs": [],
   "source": [
    "fp = open('dbpedia.test','rt',encoding='utf-8')\n",
    "lines =  fp.readlines()\n",
    "fp.close()"
   ]
  },
  {
   "cell_type": "code",
   "execution_count": 15,
   "metadata": {
    "collapsed": true
   },
   "outputs": [],
   "source": [
    "labels = []\n",
    "qlist = []\n",
    "for line in lines:\n",
    "    i = line.index(',')\n",
    "    labels.append(line[:i])\n",
    "    qlist.append(line[i+1:].strip())"
   ]
  },
  {
   "cell_type": "code",
   "execution_count": 16,
   "metadata": {
    "collapsed": true
   },
   "outputs": [],
   "source": [
    "labels = [x.split('__')[-1].strip() for x in labels]"
   ]
  },
  {
   "cell_type": "code",
   "execution_count": 17,
   "metadata": {
    "collapsed": true
   },
   "outputs": [],
   "source": [
    "out = model.predict(qlist)[0]"
   ]
  },
  {
   "cell_type": "code",
   "execution_count": 18,
   "metadata": {
    "collapsed": true
   },
   "outputs": [],
   "source": [
    "predicted = [x[0] for x in out]\n",
    "predicted = [x.split('__')[-1].strip() for x in predicted]"
   ]
  },
  {
   "cell_type": "code",
   "execution_count": 19,
   "metadata": {
    "collapsed": true
   },
   "outputs": [],
   "source": [
    "y_true = [class_names.index(x) for x in labels]\n",
    "y_pred = [class_names.index(x) for x in predicted]"
   ]
  },
  {
   "cell_type": "code",
   "execution_count": 20,
   "metadata": {},
   "outputs": [
    {
     "name": "stdout",
     "output_type": "stream",
     "text": [
      "Confusion matrix \n",
      " [[4768   38    8    4   14   34   50    3    2    0    7   12    9   51]\n",
      " [  33 4924    0    0    5    1   30    1    1    0    0    0    2    3]\n",
      " [  18    3 4772   13   84    0    8    1    0    0    0   27   17   57]\n",
      " [   3    1   18 4960   14    0    0    1    0    2    0    0    1    0]\n",
      " [   5    3   47   10 4923    2    4    0    2    1    0    0    1    2]\n",
      " [  24    1    0    0    4 4956    8    2    0    0    2    0    1    2]\n",
      " [  46   25    1    0    6    7 4880   21    7    2    0    1    1    3]\n",
      " [   2    1    0    0    1    0   14 4973    9    0    0    0    0    0]\n",
      " [   0    0    1    0    1    0    8   11 4978    0    0    0    0    1]\n",
      " [   2    0    0    0    0    1    0    6    0 4940   50    0    0    1]\n",
      " [  11    1    0    0    0    0    1    0    0    8 4978    0    0    1]\n",
      " [   1    0   10    1    0    0    1    0    0    0    0 4956   19   12]\n",
      " [   5    1    3    1    1    2    1    1    0    0    1   14 4937   33]\n",
      " [  36    4   15    2    7    3    4    1    1    0    3    5   36 4883]]\n"
     ]
    }
   ],
   "source": [
    "cm = confusion_matrix(labels, predicted, labels=class_names)\n",
    "print (\"Confusion matrix \\n\",cm)"
   ]
  },
  {
   "cell_type": "code",
   "execution_count": 21,
   "metadata": {},
   "outputs": [
    {
     "name": "stdout",
     "output_type": "stream",
     "text": [
      " Classification Report \n",
      "                         precision    recall  f1-score   support\n",
      "\n",
      "               Company      0.962     0.954     0.958      5000\n",
      "EducationalInstitution      0.984     0.985     0.985      5000\n",
      "                Artist      0.979     0.954     0.966      5000\n",
      "               Athlete      0.994     0.992     0.993      5000\n",
      "          OfficeHolder      0.973     0.985     0.979      5000\n",
      "  MeanOfTransportation      0.990     0.991     0.991      5000\n",
      "              Building      0.974     0.976     0.975      5000\n",
      "          NaturalPlace      0.990     0.995     0.993      5000\n",
      "               Village      0.996     0.996     0.996      5000\n",
      "                Animal      0.997     0.988     0.993      5000\n",
      "                 Plant      0.988     0.996     0.992      5000\n",
      "                 Album      0.988     0.991     0.990      5000\n",
      "                  Film      0.983     0.987     0.985      5000\n",
      "           WrittenWork      0.967     0.977     0.972      5000\n",
      "\n",
      "              accuracy                          0.983     70000\n",
      "             macro avg      0.983     0.983     0.983     70000\n",
      "          weighted avg      0.983     0.983     0.983     70000\n",
      "\n"
     ]
    }
   ],
   "source": [
    "print (\" Classification Report \\n\",classification_report(y_true, y_pred, target_names=class_names,digits=3))"
   ]
  },
  {
   "cell_type": "code",
   "execution_count": null,
   "metadata": {
    "collapsed": true
   },
   "outputs": [],
   "source": []
  }
 ],
 "metadata": {
  "kernelspec": {
   "display_name": "Python 3",
   "language": "python",
   "name": "python3"
  },
  "language_info": {
   "codemirror_mode": {
    "name": "ipython",
    "version": 3
   },
   "file_extension": ".py",
   "mimetype": "text/x-python",
   "name": "python",
   "nbconvert_exporter": "python",
   "pygments_lexer": "ipython3",
   "version": "3.6.1"
  }
 },
 "nbformat": 4,
 "nbformat_minor": 2
}
