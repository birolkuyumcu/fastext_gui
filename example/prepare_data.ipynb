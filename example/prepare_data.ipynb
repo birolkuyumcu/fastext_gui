{
 "cells": [
  {
   "cell_type": "raw",
   "metadata": {},
   "source": [
    "The DBpedia ontology classification dataset is constructed by picking 14 non-overlapping classes from DBpedia 2014. \n",
    "They are listed in classes.txt. From each of thse 14 ontology classes, \n",
    "we randomly choose 40,000 training samples and 5,000 testing samples. \n",
    "Therefore, the total size of the training dataset is 560,000 and testing dataset 70,000.\n",
    "\n",
    "Download Dataset : \"https://github.com/le-scientifique/torchDatasets/raw/master/dbpedia_csv.tar.gz\"\n",
    "Open it here"
   ]
  },
  {
   "cell_type": "code",
   "execution_count": 1,
   "metadata": {
    "collapsed": true
   },
   "outputs": [],
   "source": [
    "import pandas as pd\n",
    "import numpy as np"
   ]
  },
  {
   "cell_type": "code",
   "execution_count": 2,
   "metadata": {},
   "outputs": [
    {
     "data": {
      "text/plain": [
       "['Company',\n",
       " 'EducationalInstitution',\n",
       " 'Artist',\n",
       " 'Athlete',\n",
       " 'OfficeHolder',\n",
       " 'MeanOfTransportation',\n",
       " 'Building',\n",
       " 'NaturalPlace',\n",
       " 'Village',\n",
       " 'Animal',\n",
       " 'Plant',\n",
       " 'Album',\n",
       " 'Film',\n",
       " 'WrittenWork']"
      ]
     },
     "execution_count": 2,
     "metadata": {},
     "output_type": "execute_result"
    }
   ],
   "source": [
    "fp = open('dbpedia_csv/classes.txt','rt')\n",
    "class_names =  fp.readlines()\n",
    "fp.close()\n",
    "class_names = [x.strip() for x in class_names]\n",
    "class_names"
   ]
  },
  {
   "cell_type": "code",
   "execution_count": 9,
   "metadata": {},
   "outputs": [
    {
     "name": "stdout",
     "output_type": "stream",
     "text": [
      "Company\n",
      "EducationalInstitution\n",
      "Artist\n",
      "Athlete\n",
      "OfficeHolder\n",
      "MeanOfTransportation\n",
      "Building\n",
      "NaturalPlace\n",
      "Village\n",
      "Animal\n",
      "Plant\n",
      "Album\n",
      "Film\n",
      "WrittenWork\n"
     ]
    }
   ],
   "source": [
    "df = pd.read_csv('dbpedia_csv/train.csv',encoding='utf8',header=None)\n",
    "df.columns = ['label','title','description']\n",
    "fp =  open('dbpedia.train','wt',encoding='utf-8')\n",
    "for i in range(len(df)) :\n",
    "    label =  '__label__'+class_names[df.label[i]-1]+' '\n",
    "    text = ', '+df.title[i].lower()+' '+df.description[i].lower()\n",
    "    line = label + text+'\\n'\n",
    "    fp.write(line)\n",
    "    if i%40000 == 0:\n",
    "        print(class_names[int(i/40000)])\n",
    "fp.close()"
   ]
  },
  {
   "cell_type": "code",
   "execution_count": 4,
   "metadata": {},
   "outputs": [
    {
     "data": {
      "text/html": [
       "<div>\n",
       "<style scoped>\n",
       "    .dataframe tbody tr th:only-of-type {\n",
       "        vertical-align: middle;\n",
       "    }\n",
       "\n",
       "    .dataframe tbody tr th {\n",
       "        vertical-align: top;\n",
       "    }\n",
       "\n",
       "    .dataframe thead th {\n",
       "        text-align: right;\n",
       "    }\n",
       "</style>\n",
       "<table border=\"1\" class=\"dataframe\">\n",
       "  <thead>\n",
       "    <tr style=\"text-align: right;\">\n",
       "      <th></th>\n",
       "      <th>label</th>\n",
       "      <th>title</th>\n",
       "      <th>description</th>\n",
       "    </tr>\n",
       "  </thead>\n",
       "  <tbody>\n",
       "    <tr>\n",
       "      <th>382786</th>\n",
       "      <td>10</td>\n",
       "      <td>Carposina pinarodes</td>\n",
       "      <td>Carposina pinarodes is a moth in the Carposin...</td>\n",
       "    </tr>\n",
       "    <tr>\n",
       "      <th>398469</th>\n",
       "      <td>10</td>\n",
       "      <td>Spilarctia sinica</td>\n",
       "      <td>Spilarctia sinica is a moth in the Arctiidae ...</td>\n",
       "    </tr>\n",
       "    <tr>\n",
       "      <th>47198</th>\n",
       "      <td>2</td>\n",
       "      <td>Benedictine University at Springfield</td>\n",
       "      <td>Benedictine University at Springfield formerl...</td>\n",
       "    </tr>\n",
       "    <tr>\n",
       "      <th>514730</th>\n",
       "      <td>13</td>\n",
       "      <td>Overland Pacific</td>\n",
       "      <td>Overland Pacific is a 1954 Western film.</td>\n",
       "    </tr>\n",
       "    <tr>\n",
       "      <th>19029</th>\n",
       "      <td>1</td>\n",
       "      <td>KreataGlobal</td>\n",
       "      <td>Kreata Global is a digital outsourcing firm w...</td>\n",
       "    </tr>\n",
       "    <tr>\n",
       "      <th>302784</th>\n",
       "      <td>8</td>\n",
       "      <td>Sand Range</td>\n",
       "      <td>The Sand Range is a mountain range in Washoe ...</td>\n",
       "    </tr>\n",
       "    <tr>\n",
       "      <th>460055</th>\n",
       "      <td>12</td>\n",
       "      <td>Love's Theme Song Kiss</td>\n",
       "      <td>Love's Theme Song Kiss (Chinese: 愛的主打歌·吻; pin...</td>\n",
       "    </tr>\n",
       "    <tr>\n",
       "      <th>328994</th>\n",
       "      <td>9</td>\n",
       "      <td>Mišljen</td>\n",
       "      <td>Mišljen (Cyrillic: Мишљен) is a village in th...</td>\n",
       "    </tr>\n",
       "    <tr>\n",
       "      <th>270054</th>\n",
       "      <td>7</td>\n",
       "      <td>Capt. Salem Avery House</td>\n",
       "      <td>The Capt. Salem Avery House is a historic hom...</td>\n",
       "    </tr>\n",
       "    <tr>\n",
       "      <th>165002</th>\n",
       "      <td>5</td>\n",
       "      <td>Simon Cameron</td>\n",
       "      <td>Simon Cameron (March 8 1799 – June 26 1889) w...</td>\n",
       "    </tr>\n",
       "  </tbody>\n",
       "</table>\n",
       "</div>"
      ],
      "text/plain": [
       "        label                                  title  \\\n",
       "382786     10                    Carposina pinarodes   \n",
       "398469     10                      Spilarctia sinica   \n",
       "47198       2  Benedictine University at Springfield   \n",
       "514730     13                       Overland Pacific   \n",
       "19029       1                           KreataGlobal   \n",
       "302784      8                             Sand Range   \n",
       "460055     12                 Love's Theme Song Kiss   \n",
       "328994      9                                Mišljen   \n",
       "270054      7                Capt. Salem Avery House   \n",
       "165002      5                          Simon Cameron   \n",
       "\n",
       "                                              description  \n",
       "382786   Carposina pinarodes is a moth in the Carposin...  \n",
       "398469   Spilarctia sinica is a moth in the Arctiidae ...  \n",
       "47198    Benedictine University at Springfield formerl...  \n",
       "514730           Overland Pacific is a 1954 Western film.  \n",
       "19029    Kreata Global is a digital outsourcing firm w...  \n",
       "302784   The Sand Range is a mountain range in Washoe ...  \n",
       "460055   Love's Theme Song Kiss (Chinese: 愛的主打歌·吻; pin...  \n",
       "328994   Mišljen (Cyrillic: Мишљен) is a village in th...  \n",
       "270054   The Capt. Salem Avery House is a historic hom...  \n",
       "165002   Simon Cameron (March 8 1799 – June 26 1889) w...  "
      ]
     },
     "execution_count": 4,
     "metadata": {},
     "output_type": "execute_result"
    }
   ],
   "source": [
    "df.sample(10)"
   ]
  },
  {
   "cell_type": "code",
   "execution_count": 10,
   "metadata": {},
   "outputs": [
    {
     "name": "stdout",
     "output_type": "stream",
     "text": [
      "Company\n",
      "EducationalInstitution\n",
      "Artist\n",
      "Athlete\n",
      "OfficeHolder\n",
      "MeanOfTransportation\n",
      "Building\n",
      "NaturalPlace\n",
      "Village\n",
      "Animal\n",
      "Plant\n",
      "Album\n",
      "Film\n",
      "WrittenWork\n"
     ]
    }
   ],
   "source": [
    "df = pd.read_csv('dbpedia_csv/test.csv',encoding='utf8',header=None)\n",
    "df.columns = ['label','title','description']\n",
    "fp =  open('dbpedia.test','wt',encoding='utf-8')\n",
    "for i in range(len(df)) :\n",
    "    label =  '__label__'+class_names[df.label[i]-1]+' '\n",
    "    text = ', '+df.title[i].lower()+' '+df.description[i].lower()\n",
    "    line = label + text+'\\n'\n",
    "    fp.write(line)\n",
    "    if i%5000 == 0:\n",
    "        print(class_names[int(i/5000)])\n",
    "fp.close()"
   ]
  },
  {
   "cell_type": "code",
   "execution_count": null,
   "metadata": {
    "collapsed": true
   },
   "outputs": [],
   "source": []
  }
 ],
 "metadata": {
  "kernelspec": {
   "display_name": "Python 3",
   "language": "python",
   "name": "python3"
  },
  "language_info": {
   "codemirror_mode": {
    "name": "ipython",
    "version": 3
   },
   "file_extension": ".py",
   "mimetype": "text/x-python",
   "name": "python",
   "nbconvert_exporter": "python",
   "pygments_lexer": "ipython3",
   "version": "3.6.1"
  }
 },
 "nbformat": 4,
 "nbformat_minor": 2
}
